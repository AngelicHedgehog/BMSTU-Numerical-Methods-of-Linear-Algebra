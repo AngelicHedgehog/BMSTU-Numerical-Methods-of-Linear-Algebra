{
 "cells": [
  {
   "cell_type": "code",
   "execution_count": 1,
   "metadata": {},
   "outputs": [],
   "source": [
    "using LinearAlgebra\n",
    "using PolynomialRoots"
   ]
  },
  {
   "cell_type": "code",
   "execution_count": 2,
   "metadata": {},
   "outputs": [
    {
     "data": {
      "text/plain": [
       "I_matrix (generic function with 1 method)"
      ]
     },
     "execution_count": 2,
     "metadata": {},
     "output_type": "execute_result"
    }
   ],
   "source": [
    "function I_matrix(n::Int)::Matrix{Float64}\n",
    "    I = Matrix{Float64}(zeros(n, n))\n",
    "    for i in 1:n\n",
    "        I[i, i] = 1.0\n",
    "    end\n",
    "    return I\n",
    "end"
   ]
  },
  {
   "cell_type": "code",
   "execution_count": 3,
   "metadata": {},
   "outputs": [
    {
     "data": {
      "text/plain": [
       "danilevsky_method (generic function with 1 method)"
      ]
     },
     "execution_count": 3,
     "metadata": {},
     "output_type": "execute_result"
    }
   ],
   "source": [
    "function danilevsky_method(A::Matrix{Float64})\n",
    "    n = size(A, 1)\n",
    "\n",
    "    B_i = Vector{Matrix{Float64}}(undef, n - 1)\n",
    "    D = copy(A)\n",
    "\n",
    "    for k in n:-1:2\n",
    "        B_inv = I_matrix(n)\n",
    "        B_inv[k - 1, :] = D[k, :]\n",
    "        B_i[n - k + 1] = inv(B_inv)\n",
    "\n",
    "        D = B_inv * D * B_i[n - k + 1]\n",
    "    end\n",
    "    P = D[1, :]\n",
    "    eigen_vals = real.(roots(push!(-reverse(P), 1)))\n",
    "\n",
    "    B = I_matrix(n)\n",
    "    for B_ in B_i\n",
    "        B *= B_\n",
    "    end\n",
    "\n",
    "    y_i = [[eigen_val ^ i for i in (n-1):-1:0] for eigen_val in eigen_vals]\n",
    "    \n",
    "    x_i = [B * y for y in y_i]\n",
    "\n",
    "    return eigen_vals, normalize.(x_i)\n",
    "end"
   ]
  },
  {
   "cell_type": "code",
   "execution_count": 4,
   "metadata": {},
   "outputs": [
    {
     "data": {
      "text/plain": [
       "check_by_Viet (generic function with 1 method)"
      ]
     },
     "execution_count": 4,
     "metadata": {},
     "output_type": "execute_result"
    }
   ],
   "source": [
    "function check_by_Viet(A::Matrix{Float64}, eigen_vals::Vector{Float64})::Float64\n",
    "    return abs(tr(A) - sum(eigen_vals))\n",
    "end"
   ]
  },
  {
   "cell_type": "code",
   "execution_count": 5,
   "metadata": {},
   "outputs": [
    {
     "data": {
      "text/plain": [
       "check_by_Gershgorin (generic function with 1 method)"
      ]
     },
     "execution_count": 5,
     "metadata": {},
     "output_type": "execute_result"
    }
   ],
   "source": [
    "function check_by_Gershgorin(A::Matrix{Float64}, eigen_vals::Vector{Float64})::Bool\n",
    "    n = size(A, 1)\n",
    "\n",
    "    start_union = undef\n",
    "    stop_union = undef\n",
    "    for i in 1:n\n",
    "        diag_elem = A[i, i]\n",
    "        line_sum = sum(abs.(A[i, :])) - abs(diag_elem)\n",
    "\n",
    "        start = diag_elem - line_sum\n",
    "        if start_union == undef || start < start_union\n",
    "            start_union = start\n",
    "        end\n",
    "        \n",
    "        stop = diag_elem + line_sum\n",
    "        if stop_union == undef || stop > start_union\n",
    "            stop_union = stop\n",
    "        end\n",
    "    end\n",
    "    \n",
    "    return all(start_union <= eigen_val <= stop_union for eigen_val in eigen_vals)\n",
    "end"
   ]
  },
  {
   "cell_type": "code",
   "execution_count": 6,
   "metadata": {},
   "outputs": [
    {
     "data": {
      "text/plain": [
       "check_ortogonal (generic function with 1 method)"
      ]
     },
     "execution_count": 6,
     "metadata": {},
     "output_type": "execute_result"
    }
   ],
   "source": [
    "function check_ortogonal(eigen_vectors::Vector{Vector{Float64}})::Bool\n",
    "    n = size(eigen_vectors, 1)\n",
    "    for i in 1:(n-1)\n",
    "        for j in (i+1):n\n",
    "            if abs(eigen_vectors[i]'eigen_vectors[j]) > 1e-5\n",
    "                return false\n",
    "            end\n",
    "        end\n",
    "    end\n",
    "    return true\n",
    "end"
   ]
  },
  {
   "cell_type": "code",
   "execution_count": 7,
   "metadata": {},
   "outputs": [
    {
     "name": "stdout",
     "output_type": "stream",
     "text": [
      "Eigenvalues: [5.652032331764589, -1.420086593950619, 1.5454183350534156, 0.22263592713261507]\n",
      "Error in calculating eigenvalues using Vieta's theorem: 1.7763568394002505e-15\n",
      "Verification of Gershgorin's theorem: true\n",
      "Eigenvectors:\n",
      "[0.5317360693095499, 0.44619412190869223, 0.40881553418500616, 0.5924841071103837]\n",
      "[-0.2220428365454722, 0.5159103236551117, -0.7572742312071333, 0.3332705439047439]\n",
      "[0.62892976467108, -0.5725742255591189, -0.48565379676310105, 0.2018576157239048]\n",
      "[-0.5219205710113896, -0.45486932161400195, 0.1534470183752563, 0.705086399217363]\n",
      "Orthogonality of eigenvectors: true\n"
     ]
    }
   ],
   "source": [
    "A = [\n",
    "    2.2 1.0 0.5 2.0;\n",
    "    1.0 1.3 2.0 1.0;\n",
    "    0.5 2.0 0.5 1.6;\n",
    "    2.0 1.0 1.6 2.0\n",
    "]\n",
    "eigen_vals, eigen_vectors = danilevsky_method(A)\n",
    "println(\"Eigenvalues: \", eigen_vals)\n",
    "error_viet = check_by_Viet(A, eigen_vals)\n",
    "println(\"Error in calculating eigenvalues using Vieta's theorem: \", error_viet)\n",
    "check = check_by_Gershgorin(A, eigen_vals)\n",
    "println(\"Verification of Gershgorin's theorem: \", check)\n",
    "println(\"Eigenvectors:\")\n",
    "for eigen_vector in eigen_vectors\n",
    "    println(eigen_vector)\n",
    "end\n",
    "check_vects = check_ortogonal(eigen_vectors)\n",
    "println(\"Orthogonality of eigenvectors: \", check_vects)"
   ]
  },
  {
   "cell_type": "code",
   "execution_count": 8,
   "metadata": {},
   "outputs": [
    {
     "name": "stdout",
     "output_type": "stream",
     "text": [
      "Eigenvalues: [18.176061276778213, -8.924899361398401, 5.39378895734575, 1.874589613387166, -0.5195404861127171]\n",
      "Error in calculating eigenvalues using Vieta's theorem: 1.2434497875801753e-14\n",
      "Verification of Gershgorin's theorem: false\n",
      "Eigenvectors:\n",
      "[0.3996021709709015, -0.665653553721814, 0.5558056083971021, -0.17477433349077834, 0.2403279205586481]\n",
      "[-0.5492894758466208, -0.10766023132451748, 0.24684288967053, 0.6180553989016193, 0.4937271088597009]\n",
      "[-0.5156957615883632, -0.37662692283972776, -0.392079500533507, -0.5966956605656002, 0.28712017761845604]\n",
      "[-0.2019522237982415, 0.5759766479137343, 0.5948706624020939, -0.48096669550969695, 0.20558728848053778]\n",
      "[0.48153126322413037, 0.2678015740412564, -0.350073240577105, 0.009315724023380937, 0.7574773283713271]\n",
      "Orthogonality of eigenvectors: true\n"
     ]
    }
   ],
   "source": [
    "n = 5\n",
    "A = Matrix{Float64}(Symmetric(rand(-10.0:0.1:10.0,n,n)))\n",
    "eigen_vals, eigen_vectors = danilevsky_method(A)\n",
    "println(\"Eigenvalues: \", eigen_vals)\n",
    "error_viet = check_by_Viet(A, eigen_vals)\n",
    "println(\"Error in calculating eigenvalues using Vieta's theorem: \", error_viet)\n",
    "check = check_by_Gershgorin(A, eigen_vals)\n",
    "println(\"Verification of Gershgorin's theorem: \", check)\n",
    "println(\"Eigenvectors:\")\n",
    "for eigen_vector in eigen_vectors\n",
    "    println(eigen_vector)\n",
    "end\n",
    "check_vects = check_ortogonal(eigen_vectors)\n",
    "println(\"Orthogonality of eigenvectors: \", check_vects)"
   ]
  }
 ],
 "metadata": {
  "kernelspec": {
   "display_name": "Julia 1.10.5",
   "language": "julia",
   "name": "julia-1.10"
  },
  "language_info": {
   "file_extension": ".jl",
   "mimetype": "application/julia",
   "name": "julia",
   "version": "1.10.5"
  }
 },
 "nbformat": 4,
 "nbformat_minor": 2
}

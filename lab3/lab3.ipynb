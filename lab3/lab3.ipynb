{
 "cells": [
  {
   "cell_type": "code",
   "execution_count": 1,
   "metadata": {},
   "outputs": [],
   "source": [
    "using LinearAlgebra\n",
    "using Random"
   ]
  },
  {
   "cell_type": "markdown",
   "metadata": {},
   "source": [
    "## Генерация данных"
   ]
  },
  {
   "cell_type": "code",
   "execution_count": 2,
   "metadata": {},
   "outputs": [
    {
     "data": {
      "text/plain": [
       "generate_matrix_delta (generic function with 1 method)"
      ]
     },
     "execution_count": 2,
     "metadata": {},
     "output_type": "execute_result"
    }
   ],
   "source": [
    "function generate_matrix(n::Int64)::Matrix{Float64}\n",
    "    return rand(-100:0.01:100, n, n)\n",
    "end\n",
    "function generate_matrix_delta(n::Int64)::Matrix{Float64}\n",
    "    return rand(-10:0.01:10, n, n)\n",
    "end"
   ]
  },
  {
   "cell_type": "code",
   "execution_count": 3,
   "metadata": {},
   "outputs": [
    {
     "data": {
      "text/plain": [
       "generate_vector_delta (generic function with 1 method)"
      ]
     },
     "execution_count": 3,
     "metadata": {},
     "output_type": "execute_result"
    }
   ],
   "source": [
    "function generate_vector(n::Int64)::Vector{Float64}\n",
    "    return rand(-100:0.01:100, n)\n",
    "end\n",
    "function generate_vector_delta(n::Int64)::Vector{Float64}\n",
    "    return rand(-10:0.01:10, n)\n",
    "end"
   ]
  },
  {
   "cell_type": "markdown",
   "metadata": {},
   "source": [
    "## Нормы"
   ]
  },
  {
   "cell_type": "code",
   "execution_count": 4,
   "metadata": {},
   "outputs": [
    {
     "data": {
      "text/plain": [
       "euclidean_norm (generic function with 1 method)"
      ]
     },
     "execution_count": 4,
     "metadata": {},
     "output_type": "execute_result"
    }
   ],
   "source": [
    "function euclidean_norm(A)::Float64\n",
    "    return sqrt(sum(abs2, A))\n",
    "end"
   ]
  },
  {
   "cell_type": "code",
   "execution_count": 5,
   "metadata": {},
   "outputs": [
    {
     "data": {
      "text/plain": [
       "uniform_norm (generic function with 2 methods)"
      ]
     },
     "execution_count": 5,
     "metadata": {},
     "output_type": "execute_result"
    }
   ],
   "source": [
    "function uniform_norm(x::Vector{Float64})::Float64\n",
    "    return maximum(abs.(x))\n",
    "end\n",
    "\n",
    "function uniform_norm(x::Matrix{Float64})::Float64\n",
    "    return maximum(sum(abs, x, dims=2))\n",
    "end"
   ]
  },
  {
   "cell_type": "markdown",
   "metadata": {},
   "source": [
    "## Число обусловленности матрицы"
   ]
  },
  {
   "cell_type": "code",
   "execution_count": 6,
   "metadata": {},
   "outputs": [
    {
     "data": {
      "text/plain": [
       "get_condition_number (generic function with 1 method)"
      ]
     },
     "execution_count": 6,
     "metadata": {},
     "output_type": "execute_result"
    }
   ],
   "source": [
    "function get_condition_number(A::Matrix{Float64}, _norm::Function)::Float64\n",
    "    return _norm(inv(A)) * _norm(A)\n",
    "end"
   ]
  },
  {
   "cell_type": "markdown",
   "metadata": {},
   "source": [
    "## Коэффициент роста элементов матрицы"
   ]
  },
  {
   "cell_type": "code",
   "execution_count": 7,
   "metadata": {},
   "outputs": [
    {
     "data": {
      "text/plain": [
       "gauss_growth_factor (generic function with 1 method)"
      ]
     },
     "execution_count": 7,
     "metadata": {},
     "output_type": "execute_result"
    }
   ],
   "source": [
    "function gauss_growth_factor(A::Matrix{Float64})::Float64\n",
    "    n = size(A, 1)\n",
    "    max_initial = maximum(abs.(A))\n",
    "    max_during = max_initial\n",
    "\n",
    "    A_work = copy(A)\n",
    "\n",
    "    for k in 1:n-1\n",
    "        for i in k+1:n\n",
    "            if A_work[k, k] != 0\n",
    "                factor = A_work[i, k] / A_work[k, k]\n",
    "                for j in k:n\n",
    "                    A_work[i, j] -= factor * A_work[k, j]\n",
    "                end\n",
    "            end\n",
    "        end\n",
    "        max_during = max(max_during, maximum(abs.(A_work)))\n",
    "    end\n",
    "    \n",
    "    return max_during / max_initial\n",
    "end"
   ]
  },
  {
   "cell_type": "markdown",
   "metadata": {},
   "source": [
    "## Оценки погрешностей"
   ]
  },
  {
   "cell_type": "code",
   "execution_count": 8,
   "metadata": {},
   "outputs": [
    {
     "data": {
      "text/plain": [
       "error_rounding (generic function with 1 method)"
      ]
     },
     "execution_count": 8,
     "metadata": {},
     "output_type": "execute_result"
    }
   ],
   "source": [
    "function error_rounding(\n",
    "    A::Matrix{Float64},\n",
    "    p::Int64,\n",
    "    t::Int64,\n",
    "    _norm::Function\n",
    ")::Float64\n",
    "    nu_A = get_condition_number(A, _norm)\n",
    "    n = size(A, 1)\n",
    "    g_A = gauss_growth_factor(A)\n",
    "    return nu_A * n * g_A / p ^ t\n",
    "end"
   ]
  },
  {
   "cell_type": "code",
   "execution_count": 9,
   "metadata": {},
   "outputs": [
    {
     "data": {
      "text/plain": [
       "error_input_data (generic function with 1 method)"
      ]
     },
     "execution_count": 9,
     "metadata": {},
     "output_type": "execute_result"
    }
   ],
   "source": [
    "function error_input_data(\n",
    "    A::Matrix{Float64}, delta_A::Matrix{Float64},\n",
    "    f::Vector{Float64}, delta_f::Vector{Float64},\n",
    "    _norm::Function\n",
    ")::Float64\n",
    "    nu_A = get_condition_number(A, _norm)\n",
    "    error_A = _norm(delta_A) / _norm(A)\n",
    "    error_f = _norm(delta_f) / _norm(f)\n",
    "    return nu_A * (error_A + error_f)\n",
    "end"
   ]
  },
  {
   "cell_type": "markdown",
   "metadata": {},
   "source": [
    "## Погрешность решения"
   ]
  },
  {
   "cell_type": "code",
   "execution_count": 10,
   "metadata": {},
   "outputs": [
    {
     "data": {
      "text/plain": [
       "error_result (generic function with 1 method)"
      ]
     },
     "execution_count": 10,
     "metadata": {},
     "output_type": "execute_result"
    }
   ],
   "source": [
    "function error_result(\n",
    "    A::Matrix{Float64}, delta_A::Matrix{Float64},\n",
    "    f::Vector{Float64}, delta_f::Vector{Float64},\n",
    "    _norm::Function\n",
    ")::Float64\n",
    "    x = A \\ f\n",
    "    delta_x = (A + delta_A) \\ (f + delta_f) - x\n",
    "    return _norm(delta_x) / _norm(x)\n",
    "end"
   ]
  },
  {
   "cell_type": "markdown",
   "metadata": {},
   "source": [
    "## Тестирование"
   ]
  },
  {
   "cell_type": "code",
   "execution_count": 11,
   "metadata": {},
   "outputs": [
    {
     "name": "stdout",
     "output_type": "stream",
     "text": [
      "Относительная ошибка входных данных: 1.9899999999989821\n",
      "Относительная ошибка результата: 1.9899999999940312"
     ]
    }
   ],
   "source": [
    "A = [\n",
    "    100. 99.;\n",
    "    99. 98.\n",
    "]\n",
    "delta_A = [\n",
    "    0. 0.;\n",
    "    0. 0.\n",
    "]\n",
    "f = [\n",
    "    199.,\n",
    "    197.\n",
    "]\n",
    "delta_f = [\n",
    "    -.01,\n",
    "    .01\n",
    "]\n",
    "\n",
    "print(\"Относительная ошибка входных данных: \", error_input_data(A, delta_A, f, delta_f, uniform_norm))\n",
    "print(\"\\nОтносительная ошибка результата: \", error_result(A, delta_A, f, delta_f, uniform_norm))"
   ]
  },
  {
   "cell_type": "code",
   "execution_count": 12,
   "metadata": {},
   "outputs": [
    {
     "name": "stdout",
     "output_type": "stream",
     "text": [
      "Относительная ошибка округления: 0.11516827877965007\n",
      "Относительная ошибка входных данных: 1.32573555646218\n",
      "Относительная ошибка результата: 0.1490879688109449"
     ]
    }
   ],
   "source": [
    "A = generate_matrix(5)\n",
    "delta_A = generate_matrix_delta(5)\n",
    "f = generate_vector(5)\n",
    "delta_f = generate_vector_delta(5)\n",
    "\n",
    "_norm = euclidean_norm\n",
    "\n",
    "print(\"Относительная ошибка округления: \", error_rounding(A, 2, 11, _norm))\n",
    "print(\"\\nОтносительная ошибка входных данных: \", error_input_data(A, delta_A, f, delta_f, _norm))\n",
    "print(\"\\nОтносительная ошибка результата: \", error_result(A, delta_A, f, delta_f, _norm))"
   ]
  }
 ],
 "metadata": {
  "kernelspec": {
   "display_name": "Julia 1.10.5",
   "language": "julia",
   "name": "julia-1.10"
  },
  "language_info": {
   "file_extension": ".jl",
   "mimetype": "application/julia",
   "name": "julia",
   "version": "1.10.5"
  }
 },
 "nbformat": 4,
 "nbformat_minor": 2
}

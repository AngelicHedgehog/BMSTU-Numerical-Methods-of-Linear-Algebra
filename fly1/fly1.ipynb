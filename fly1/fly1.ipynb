{
 "cells": [
  {
   "cell_type": "code",
   "execution_count": 1,
   "metadata": {},
   "outputs": [],
   "source": [
    "using LinearAlgebra\n",
    "using Random"
   ]
  },
  {
   "cell_type": "code",
   "execution_count": 2,
   "metadata": {},
   "outputs": [
    {
     "data": {
      "text/plain": [
       "generate_tridiagonal_matrix (generic function with 1 method)"
      ]
     },
     "metadata": {},
     "output_type": "display_data"
    }
   ],
   "source": [
    "function generate_tridiagonal_matrix(n)\n",
    "    A = zeros(Float64, n, n)\n",
    "    \n",
    "    for i in 1:n\n",
    "        if i > 1\n",
    "            A[i, i-1] = rand(-100.0:0.001:100.0)\n",
    "        end\n",
    "        if i < n\n",
    "            A[i, i+1] = rand(-100.0:0.001:100.0)\n",
    "        end\n",
    "        A[i, i] = abs(A[i, max(i-1, 1)]) + abs(A[i, min(i+1, n)]) + rand(1.0:0.001:10.0)\n",
    "    end\n",
    "\n",
    "    return A\n",
    "end"
   ]
  },
  {
   "cell_type": "code",
   "execution_count": 3,
   "metadata": {},
   "outputs": [
    {
     "data": {
      "text/plain": [
       "run_algorithm_matrix (generic function with 1 method)"
      ]
     },
     "metadata": {},
     "output_type": "display_data"
    }
   ],
   "source": [
    "function run_algorithm_matrix(A, f)\n",
    "    n = size(A, 1)\n",
    "\n",
    "    a = zeros(Float64, n)\n",
    "    b = zeros(Float64, n)\n",
    "    c = zeros(Float64, n)\n",
    "    \n",
    "    for i in 1:n\n",
    "        b[i] = A[i, i]\n",
    "        if i > 1\n",
    "            a[i] = A[i, i-1]\n",
    "        end\n",
    "        if i < n\n",
    "            c[i] = A[i, i+1]\n",
    "        end\n",
    "    end\n",
    "\n",
    "    p = zeros(Float64, n)\n",
    "    q = zeros(Float64, n)\n",
    "\n",
    "    p[1] = c[1] / b[1]\n",
    "    q[1] = d[1] / b[1]\n",
    "\n",
    "    for i in 2:n-1\n",
    "        denominator = b[i] - a[i] * p[i-1]\n",
    "        p[i] = c[i] / denominator\n",
    "        q[i] = (f[i] - a[i] * q[i-1]) / denominator\n",
    "    end\n",
    "\n",
    "    q[n] = (f[n] - a[n] * q[n-1]) / (b[n] - a[n] * p[n-1])\n",
    "\n",
    "    x = zeros(Float64, n)\n",
    "    x[n] = q[n]\n",
    "\n",
    "    for i in n-1:-1:1\n",
    "        x[i] = q[i] - p[i] * x[i+1]\n",
    "    end\n",
    "\n",
    "    return x\n",
    "end"
   ]
  },
  {
   "cell_type": "code",
   "execution_count": 4,
   "metadata": {},
   "outputs": [
    {
     "data": {
      "text/plain": [
       "compute_error (generic function with 1 method)"
      ]
     },
     "metadata": {},
     "output_type": "display_data"
    }
   ],
   "source": [
    "function compute_error(A, x, f)\n",
    "    return norm(f - A * x, 2)\n",
    "end\n"
   ]
  },
  {
   "cell_type": "code",
   "execution_count": 5,
   "metadata": {},
   "outputs": [
    {
     "name": "stdout",
     "output_type": "stream",
     "text": [
      "0.0\n"
     ]
    }
   ],
   "source": [
    "N = 100\n",
    "\n",
    "A = generate_tridiagonal_matrix(N)\n",
    "x = rand(-100.0:0.001:100.0, N)\n",
    "f = A * x\n",
    "println(compute_error(A, x, f))"
   ]
  }
 ],
 "metadata": {
  "kernelspec": {
   "display_name": "Julia 1.10.5",
   "language": "julia",
   "name": "julia-1.10"
  },
  "language_info": {
   "file_extension": ".jl",
   "mimetype": "application/julia",
   "name": "julia",
   "version": "1.10.5"
  }
 },
 "nbformat": 4,
 "nbformat_minor": 2
}

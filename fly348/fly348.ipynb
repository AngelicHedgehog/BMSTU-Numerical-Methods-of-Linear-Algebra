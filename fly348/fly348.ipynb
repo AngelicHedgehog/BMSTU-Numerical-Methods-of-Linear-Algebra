{
 "cells": [
  {
   "cell_type": "code",
   "execution_count": 15,
   "metadata": {},
   "outputs": [],
   "source": [
    "using LinearAlgebra\n",
    "using Random"
   ]
  },
  {
   "cell_type": "code",
   "execution_count": 16,
   "metadata": {},
   "outputs": [
    {
     "data": {
      "text/plain": [
       "generate_symmetric_positive_matrix (generic function with 1 method)"
      ]
     },
     "execution_count": 16,
     "metadata": {},
     "output_type": "execute_result"
    }
   ],
   "source": [
    "function generate_symmetric_positive_matrix(n::Int)::Matrix{Float64}\n",
    "    A = rand(1.0:0.01:100.0, n, n)\n",
    "    return A' * A\n",
    "end"
   ]
  },
  {
   "cell_type": "code",
   "execution_count": 17,
   "metadata": {},
   "outputs": [
    {
     "data": {
      "text/plain": [
       "triagonal_matrix_by_Cholesky (generic function with 1 method)"
      ]
     },
     "execution_count": 17,
     "metadata": {},
     "output_type": "execute_result"
    }
   ],
   "source": [
    "function triagonal_matrix_by_Cholesky(A::Matrix{Float64})::Matrix{Float64}\n",
    "    n = size(A, 1)\n",
    "    L = zeros(Float64, n, n)\n",
    "    \n",
    "    for i in 1:n\n",
    "        L[i, i] = sqrt(A[i, i] - sum(L[i, p]^2 for p in 1:(i-1); init=0.0))\n",
    "\n",
    "        for j in (i+1):n\n",
    "            L[j, i] = (A[j, i] - sum(L[j, p] * L[i, p] for p in 1:(i-1); init=0.0)) / L[i, i]\n",
    "        end\n",
    "    end\n",
    "\n",
    "    return L\n",
    "end"
   ]
  },
  {
   "cell_type": "code",
   "execution_count": 18,
   "metadata": {},
   "outputs": [
    {
     "data": {
      "text/plain": [
       "find_solve_with_Cholesky (generic function with 1 method)"
      ]
     },
     "execution_count": 18,
     "metadata": {},
     "output_type": "execute_result"
    }
   ],
   "source": [
    "function find_solve_with_Cholesky(A::Matrix{Float64}, f::Vector{Float64})::Vector{Float64}\n",
    "    n = size(A, 1)\n",
    "    L = triagonal_matrix_by_Cholesky(A)\n",
    "    x = zeros(Float64, n)\n",
    "    y = zeros(Float64, n)\n",
    "\n",
    "    for i in 1:n\n",
    "        y[i] = (f[i] - sum(L[i, k] * y[k] for k in 1:(i-1); init=0.0)) / L[i, i]\n",
    "    end\n",
    "\n",
    "    for i in n:-1:1\n",
    "        x[i] = (y[i] - sum(L[k, i] * x[k] for k in (i+1):n; init=0.0)) / L[i, i]\n",
    "    end\n",
    "\n",
    "    return x\n",
    "end"
   ]
  },
  {
   "cell_type": "code",
   "execution_count": 24,
   "metadata": {},
   "outputs": [
    {
     "name": "stdout",
     "output_type": "stream",
     "text": [
      "Error: 3.2870149053529396e-15"
     ]
    }
   ],
   "source": [
    "n = 4\n",
    "A = generate_symmetric_positive_matrix(n)\n",
    "x = rand(Float64, n)\n",
    "x_ = find_solve_with_Cholesky(A, A * x)\n",
    "\n",
    "print(\"Error: \", norm(x - x_))"
   ]
  }
 ],
 "metadata": {
  "kernelspec": {
   "display_name": "Julia 1.10.5",
   "language": "julia",
   "name": "julia-1.10"
  },
  "language_info": {
   "file_extension": ".jl",
   "mimetype": "application/julia",
   "name": "julia",
   "version": "1.10.5"
  }
 },
 "nbformat": 4,
 "nbformat_minor": 2
}

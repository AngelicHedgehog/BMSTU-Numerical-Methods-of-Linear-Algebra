{
 "cells": [
  {
   "cell_type": "code",
   "execution_count": 1,
   "metadata": {},
   "outputs": [],
   "source": [
    "using LinearAlgebra\n",
    "using PolynomialRoots"
   ]
  },
  {
   "cell_type": "code",
   "execution_count": 2,
   "metadata": {},
   "outputs": [
    {
     "data": {
      "text/plain": [
       "I_matrix (generic function with 1 method)"
      ]
     },
     "execution_count": 2,
     "metadata": {},
     "output_type": "execute_result"
    }
   ],
   "source": [
    "function I_matrix(n::Int)::Matrix{Float64}\n",
    "    I = Matrix{Float64}(zeros(n, n))\n",
    "    for i in 1:n\n",
    "        I[i, i] = 1.0\n",
    "    end\n",
    "    return I\n",
    "end"
   ]
  },
  {
   "cell_type": "code",
   "execution_count": 3,
   "metadata": {},
   "outputs": [
    {
     "data": {
      "text/plain": [
       "danilevsky_method (generic function with 1 method)"
      ]
     },
     "execution_count": 3,
     "metadata": {},
     "output_type": "execute_result"
    }
   ],
   "source": [
    "function danilevsky_method(A::Matrix{Float64})\n",
    "    n = size(A, 1)\n",
    "\n",
    "    B_i = Vector{Matrix{Float64}}(undef, n - 1)\n",
    "    D = copy(A)\n",
    "\n",
    "    for k in n:-1:2\n",
    "        B_inv = I_matrix(n)\n",
    "        B_inv[k - 1, :] = D[k, :]\n",
    "        B_i[n - k + 1] = inv(B_inv)\n",
    "\n",
    "        D = B_inv * D * B_i[n - k + 1]\n",
    "    end\n",
    "    P = D[1, :]\n",
    "    eigen_vals = real.(roots(push!(-reverse(P), 1)))\n",
    "\n",
    "    B = I_matrix(n)\n",
    "    for B_ in B_i\n",
    "        B *= B_\n",
    "    end\n",
    "\n",
    "    y_i = [[eigen_val ^ i for i in (n-1):-1:0] for eigen_val in eigen_vals]\n",
    "    \n",
    "    x_i = [B * y for y in y_i]\n",
    "\n",
    "    return eigen_vals, normalize.(x_i)\n",
    "end"
   ]
  },
  {
   "cell_type": "code",
   "execution_count": 4,
   "metadata": {},
   "outputs": [
    {
     "data": {
      "text/plain": [
       "check_by_Viet (generic function with 1 method)"
      ]
     },
     "execution_count": 4,
     "metadata": {},
     "output_type": "execute_result"
    }
   ],
   "source": [
    "function check_by_Viet(A::Matrix{Float64}, eigen_vals::Vector{Float64})::Float64\n",
    "    return abs(tr(A) - sum(eigen_vals))\n",
    "end"
   ]
  },
  {
   "cell_type": "code",
   "execution_count": 5,
   "metadata": {},
   "outputs": [
    {
     "data": {
      "text/plain": [
       "check_by_Gershgorin (generic function with 1 method)"
      ]
     },
     "execution_count": 5,
     "metadata": {},
     "output_type": "execute_result"
    }
   ],
   "source": [
    "function check_by_Gershgorin(A::Matrix{Float64}, eigen_vals::Vector{Float64})::Bool\n",
    "    n = size(A, 1)\n",
    "\n",
    "    start_union = undef\n",
    "    stop_union = undef\n",
    "    for i in 1:n\n",
    "        diag_elem = A[i, i]\n",
    "        line_sum = sum(abs.(A[i, :])) - abs(diag_elem)\n",
    "\n",
    "        start = diag_elem - line_sum\n",
    "        if start_union == undef || start < start_union\n",
    "            start_union = start\n",
    "        end\n",
    "        \n",
    "        stop = diag_elem + line_sum\n",
    "        if stop_union == undef || stop > start_union\n",
    "            stop_union = stop\n",
    "        end\n",
    "    end\n",
    "    \n",
    "    return all(start_union <= eigen_val <= stop_union for eigen_val in eigen_vals)\n",
    "end"
   ]
  },
  {
   "cell_type": "code",
   "execution_count": 6,
   "metadata": {},
   "outputs": [
    {
     "data": {
      "text/plain": [
       "check_ortogonal (generic function with 1 method)"
      ]
     },
     "execution_count": 6,
     "metadata": {},
     "output_type": "execute_result"
    }
   ],
   "source": [
    "function check_ortogonal(eigen_vectors::Vector{Vector{Float64}})::Bool\n",
    "    n = size(eigen_vectors, 1)\n",
    "    for i in 1:(n-1)\n",
    "        for j in (i+1):n\n",
    "            if abs(eigen_vectors[i]'eigen_vectors[j]) > 1e-5\n",
    "                return false\n",
    "            end\n",
    "        end\n",
    "    end\n",
    "    return true\n",
    "end"
   ]
  },
  {
   "cell_type": "code",
   "execution_count": 7,
   "metadata": {},
   "outputs": [
    {
     "name": "stdout",
     "output_type": "stream",
     "text": [
      "Собственные значения: [5.652032331764589, -1.420086593950619, 1.5454183350534156, 0.22263592713261507]\n",
      "Ошибка вычисления собственных значений по теореме Виета: 1.7763568394002505e-15\n",
      "Выполнение теоремы Гершгорина: true\n",
      "Собственные векторы:\n",
      "[0.5317360693095499, 0.44619412190869223, 0.40881553418500616, 0.5924841071103837]\n",
      "[-0.2220428365454722, 0.5159103236551117, -0.7572742312071333, 0.3332705439047439]\n",
      "[0.62892976467108, -0.5725742255591189, -0.48565379676310105, 0.2018576157239048]\n",
      "[-0.5219205710113896, -0.45486932161400195, 0.1534470183752563, 0.705086399217363]\n",
      "Ортогональность собственных векторов: true\n"
     ]
    }
   ],
   "source": [
    "A = [\n",
    "    2.2 1.0 0.5 2.0;\n",
    "    1.0 1.3 2.0 1.0;\n",
    "    0.5 2.0 0.5 1.6;\n",
    "    2.0 1.0 1.6 2.0\n",
    "]\n",
    "eigen_vals, eigen_vectors = danilevsky_method(A)\n",
    "println(\"Собственные значения: \", eigen_vals)\n",
    "error_viet = check_by_Viet(A, eigen_vals)\n",
    "println(\"Ошибка вычисления собственных значений по теореме Виета: \", error_viet)\n",
    "check_vals = check_by_Gershgorin(A, eigen_vals)\n",
    "println(\"Выполнение теоремы Гершгорина: \", check_vals)\n",
    "println(\"Собственные векторы:\")\n",
    "for eigen_vector in eigen_vectors\n",
    "    println(eigen_vector)\n",
    "end\n",
    "check_vects = check_ortogonal(eigen_vectors)\n",
    "println(\"Ортогональность собственных векторов: \", check_vects)\n"
   ]
  },
  {
   "cell_type": "code",
   "execution_count": 8,
   "metadata": {},
   "outputs": [
    {
     "name": "stdout",
     "output_type": "stream",
     "text": [
      "Собственные значения: [23.043081322307607, -14.139150984722074, -11.843398957633141, 7.830692304795538, -1.9912236847479132]\n",
      "Ошибка вычисления собственных значений по теореме Виета: 1.7319479184152442e-14\n",
      "Выполнение теоремы Гершгорина: false\n",
      "Собственные векторы:\n",
      "[-0.5157965067422463, 0.31221126879711686, -0.49387930022131127, -0.5177597612714515, 0.35282595382089993]\n",
      "[-0.39188452711614763, 0.15910001205497368, 0.25435675086601156, 0.6428799541527099, 0.5857659186130209]\n",
      "[-0.3075611837292336, -0.41057700718743395, 0.6860988237560626, -0.4936702850900719, 0.1496352000423597]\n",
      "[0.36777554396035417, -0.6316928407595264, -0.3507876282087434, -0.013902507207036936, 0.5852008752444481]\n",
      "[0.5920538392470603, 0.5564188942715519, 0.31241370654632594, -0.2733615994780507, 0.4093181860401848]\n",
      "Ортогональность собственных векторов: true\n"
     ]
    }
   ],
   "source": [
    "n = 5\n",
    "A = Matrix{Float64}(Symmetric(rand(-10.0:0.1:10.0,n,n)))\n",
    "eigen_vals, eigen_vectors = danilevsky_method(A)\n",
    "println(\"Собственные значения: \", eigen_vals)\n",
    "error_viet = check_by_Viet(A, eigen_vals)\n",
    "println(\"Ошибка вычисления собственных значений по теореме Виета: \", error_viet)\n",
    "check = check_by_Gershgorin(A, eigen_vals)\n",
    "println(\"Выполнение теоремы Гершгорина: \", check)\n",
    "println(\"Собственные векторы:\")\n",
    "for eigen_vector in eigen_vectors\n",
    "    println(eigen_vector)\n",
    "end\n",
    "check_vects = check_ortogonal(eigen_vectors)\n",
    "println(\"Ортогональность собственных векторов: \", check_vects)"
   ]
  }
 ],
 "metadata": {
  "kernelspec": {
   "display_name": "Julia 1.10.5",
   "language": "julia",
   "name": "julia-1.10"
  },
  "language_info": {
   "file_extension": ".jl",
   "mimetype": "application/julia",
   "name": "julia",
   "version": "1.10.5"
  }
 },
 "nbformat": 4,
 "nbformat_minor": 2
}

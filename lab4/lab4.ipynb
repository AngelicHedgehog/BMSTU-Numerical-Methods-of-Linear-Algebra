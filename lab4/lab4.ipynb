{
 "cells": [
  {
   "cell_type": "code",
   "execution_count": 1,
   "metadata": {},
   "outputs": [
    {
     "name": "stdout",
     "output_type": "stream",
     "text": [
      "I = 9.0\n",
      "I12 = 4.5\n",
      "I13 = 4.5\n",
      "I23 = 0.0\n",
      "I24 = 4.5\n",
      "I34 = 4.5\n"
     ]
    }
   ],
   "source": [
    "R12 = 1\n",
    "R13 = 1\n",
    "R23 = 1\n",
    "R24 = 1\n",
    "R34 = 1\n",
    "ksi = 9\n",
    "\n",
    "Fi = [\n",
    "    0 0 0 1\n",
    "    1 0 0 -1\n",
    "    1/R12 (-1/R12-1/R23-1/R24) 1/R23 1/R24\n",
    "    1/R13 1/R23 (-1/R13-1/R23-1/R34) 1/R34\n",
    "] \\ [\n",
    "    0\n",
    "    ksi\n",
    "    0\n",
    "    0\n",
    "]\n",
    "\n",
    "I12 = (Fi[1] - Fi[2]) / R12\n",
    "I13 = (Fi[1] - Fi[3]) / R13\n",
    "I23 = (Fi[2] - Fi[3]) / R23\n",
    "I24 = (Fi[2] - Fi[4]) / R24\n",
    "I34 = (Fi[3] - Fi[4]) / R34\n",
    "\n",
    "println(\"I = \", I12 + I13)\n",
    "println(\"I12 = \", I12)\n",
    "println(\"I13 = \", I13)\n",
    "println(\"I23 = \", I23)\n",
    "println(\"I24 = \", I24)\n",
    "println(\"I34 = \", I34)"
   ]
  }
 ],
 "metadata": {
  "kernelspec": {
   "display_name": "Julia 1.10.5",
   "language": "julia",
   "name": "julia-1.10"
  },
  "language_info": {
   "file_extension": ".jl",
   "mimetype": "application/julia",
   "name": "julia",
   "version": "1.10.5"
  }
 },
 "nbformat": 4,
 "nbformat_minor": 2
}
